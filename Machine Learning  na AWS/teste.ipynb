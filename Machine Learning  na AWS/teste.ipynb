{
 "cells": [
  {
   "cell_type": "code",
   "execution_count": 21,
   "metadata": {},
   "outputs": [
    {
     "name": "stdout",
     "output_type": "stream",
     "text": [
      "Posicione o cursor no local desejado. O cursor será lido em 5 segundos...\n",
      "A posição atual do cursor é: X=877, Y=611\n"
     ]
    }
   ],
   "source": [
    "import pyautogui as py\n",
    "import time\n",
    "\n",
    "print(\"Posicione o cursor no local desejado. O cursor será lido em 5 segundos...\")\n",
    "time.sleep(2)\n",
    "x, y = py.position()\n",
    "print(f\"A posição atual do cursor é: X={x}, Y={y}\")"
   ]
  },
  {
   "cell_type": "code",
   "execution_count": 24,
   "metadata": {},
   "outputs": [
    {
     "name": "stdout",
     "output_type": "stream",
     "text": [
      "Erro ao lidar com o diálogo de UAC: Process \"taskmgr.exe\" not found!\n"
     ]
    }
   ],
   "source": [
    "import os\n",
    "from pywinauto import application\n",
    "# Desativa o fail-safe do pyautogui\n",
    "py.FAILSAFE = False\n",
    "# Caminho da pasta e do aplicativo\n",
    "caminho_pasta = r'C:\\Users\\Home\\Desktop\\DIO'\n",
    "                              \n",
    "# Abre a pasta (Opcional)\n",
    "os.startfile(caminho_pasta)\n",
    "time.sleep(0.5)  # Espera a pasta abrir\n",
    "# Abre o aplicativo\n",
    "py.doubleClick(x=365 , y =596)\n",
    "time.sleep(1)\n",
    "#clica no botao login\n",
    "py.click(x=551,y=497)\n",
    "time.sleep(3)\n",
    "#leva o cursor e depois clica para iniciar\n",
    "py.click(x=220,y=358)\n",
    "py.doubleClick(x=220, y=358)\n",
    "time.sleep(3)\n",
    "# aceita o termo de segurança\n",
    " # Conecta ao aplicativo de UAC (Janela do Gerenciador de Contas de Usuário)\n",
    "try:\n",
    "    uac_windows = find_windows(title_re='.*Controle de Conta de Usuário.*')\n",
    "    if uac_windows:\n",
    "        app = application.Application().connect(handle=uac_windows[0])\n",
    "        uac_dlg = app.window(handle=uac_windows[0])\n",
    "            \n",
    "            # Clica no botão \"Sim\"\n",
    "        uac_dlg['Sim'].click()\n",
    "        print(\"Diálogo de UAC tratado.\")\n",
    "    else:\n",
    "            print(\"Diálogo de UAC não encontrado.\")\n",
    "except Exception as e:\n",
    "    print(f\"Erro ao lidar com o diálogo de UAC: {e}\")\n"
   ]
  },
  {
   "cell_type": "code",
   "execution_count": null,
   "metadata": {},
   "outputs": [],
   "source": [
    "pip install pywinauto"
   ]
  }
 ],
 "metadata": {
  "kernelspec": {
   "display_name": "Python 3",
   "language": "python",
   "name": "python3"
  },
  "language_info": {
   "codemirror_mode": {
    "name": "ipython",
    "version": 3
   },
   "file_extension": ".py",
   "mimetype": "text/x-python",
   "name": "python",
   "nbconvert_exporter": "python",
   "pygments_lexer": "ipython3",
   "version": "3.11.5"
  }
 },
 "nbformat": 4,
 "nbformat_minor": 2
}
