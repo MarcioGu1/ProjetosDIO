{
 "cells": [
  {
   "cell_type": "markdown",
   "metadata": {},
   "source": [
    "Sistema Bancário Primeira versão"
   ]
  },
  {
   "cell_type": "code",
   "execution_count": null,
   "metadata": {},
   "outputs": [],
   "source": [
    "menu = \"\"\"\n",
    "[ 1 ] Saque\n",
    "[ 2 ] Depósito\n",
    "[ 3 ] Extrato\n",
    "[ 4 ] Sair\n",
    "\n",
    "=> \"\"\"\n",
    "\n",
    "saldo = 0\n",
    "extrato = []\n",
    "limite_de_saque = 3\n",
    "\n",
    "\n",
    "while True : \n",
    "    opcao =  input (menu)\n",
    "\n",
    "    if opcao == \"1\":\n",
    "        while True:\n",
    "            try:\n",
    "                print(\" Qual valor deseja sacar : \")\n",
    "                saque = float(input(\"\\nR$ \"))\n",
    "            except (ValueError):\n",
    "                print(\" Valor inválido pro favor digite um valor válido\")\n",
    "            else:\n",
    "                if limite_de_saque > 0:\n",
    "                    if saque <= saldo :\n",
    "                        saldo -= saque\n",
    "                        extrato.append(f' Saque   :_______________________________R$ {saque:.2f}'.replace('.',','))\n",
    "                        limite_de_saque -= 1\n",
    "                        break\n",
    "                    else :\n",
    "                        print(\" O valor é maior do que o valor disponível\")  \n",
    "                else:\n",
    "                    print(\" Valor excede o limite de saque diário\")\n",
    "                    break\n",
    "            \n",
    "\n",
    "    elif opcao == \"2\":\n",
    "        while True :    \n",
    "            try :\n",
    "                print(\" Qual valor deseja depositar : \")\n",
    "                deposito = float(input(\"\\nR$ \"))\n",
    "            except ValueError  :\n",
    "                print(\" Valor inválido pro favor digite um valor válido\")\n",
    "            else :\n",
    "                if deposito < 0 :\n",
    "                    print(\" Valor inválido por favor digite um valor positivo\")\n",
    "                else:\n",
    "                    saldo += deposito\n",
    "                    extrato.append(f' Depósito:_______________________________R$ {deposito:.2f}'.replace('.',','))\n",
    "                    break\n",
    "    elif opcao == \"3\":\n",
    "        for item in extrato:\n",
    "            print(f\"{item}\\n\")\n",
    "        print(f\" Saldo   :_______________________________R$ {saldo:.2f}\".replace('.',','))\n",
    "    elif opcao == \"4\":\n",
    "        break\n",
    "    else:\n",
    "        print ('Opção invalida, por favor digite uma opição valida')"
   ]
  }
 ],
 "metadata": {
  "kernelspec": {
   "display_name": "Python 3",
   "language": "python",
   "name": "python3"
  },
  "language_info": {
   "codemirror_mode": {
    "name": "ipython",
    "version": 3
   },
   "file_extension": ".py",
   "mimetype": "text/x-python",
   "name": "python",
   "nbconvert_exporter": "python",
   "pygments_lexer": "ipython3",
   "version": "3.11.5"
  }
 },
 "nbformat": 4,
 "nbformat_minor": 2
}
