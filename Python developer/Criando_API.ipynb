{
  "nbformat": 4,
  "nbformat_minor": 0,
  "metadata": {
    "colab": {
      "provenance": []
    },
    "kernelspec": {
      "name": "python3",
      "display_name": "Python 3"
    },
    "language_info": {
      "name": "python"
    }
  },
  "cells": [
    {
      "cell_type": "code",
      "source": [
        "!pip install flask_ngrok"
      ],
      "metadata": {
        "colab": {
          "base_uri": "https://localhost:8080/"
        },
        "id": "Zupfw_FKzBBo",
        "outputId": "12d1bab2-a8fb-4b78-a18e-0c09746f25d5"
      },
      "execution_count": 27,
      "outputs": [
        {
          "output_type": "stream",
          "name": "stdout",
          "text": [
            "Requirement already satisfied: flask_ngrok in /usr/local/lib/python3.10/dist-packages (0.0.25)\n",
            "Requirement already satisfied: Flask>=0.8 in /usr/local/lib/python3.10/dist-packages (from flask_ngrok) (2.2.5)\n",
            "Requirement already satisfied: requests in /usr/local/lib/python3.10/dist-packages (from flask_ngrok) (2.31.0)\n",
            "Requirement already satisfied: Werkzeug>=2.2.2 in /usr/local/lib/python3.10/dist-packages (from Flask>=0.8->flask_ngrok) (3.0.3)\n",
            "Requirement already satisfied: Jinja2>=3.0 in /usr/local/lib/python3.10/dist-packages (from Flask>=0.8->flask_ngrok) (3.1.4)\n",
            "Requirement already satisfied: itsdangerous>=2.0 in /usr/local/lib/python3.10/dist-packages (from Flask>=0.8->flask_ngrok) (2.2.0)\n",
            "Requirement already satisfied: click>=8.0 in /usr/local/lib/python3.10/dist-packages (from Flask>=0.8->flask_ngrok) (8.1.7)\n",
            "Requirement already satisfied: charset-normalizer<4,>=2 in /usr/local/lib/python3.10/dist-packages (from requests->flask_ngrok) (3.3.2)\n",
            "Requirement already satisfied: idna<4,>=2.5 in /usr/local/lib/python3.10/dist-packages (from requests->flask_ngrok) (3.7)\n",
            "Requirement already satisfied: urllib3<3,>=1.21.1 in /usr/local/lib/python3.10/dist-packages (from requests->flask_ngrok) (2.0.7)\n",
            "Requirement already satisfied: certifi>=2017.4.17 in /usr/local/lib/python3.10/dist-packages (from requests->flask_ngrok) (2024.6.2)\n",
            "Requirement already satisfied: MarkupSafe>=2.0 in /usr/local/lib/python3.10/dist-packages (from Jinja2>=3.0->Flask>=0.8->flask_ngrok) (2.1.5)\n"
          ]
        }
      ]
    },
    {
      "cell_type": "code",
      "source": [
        "#importando bibliotecas\n",
        "\n",
        "import pandas as pd\n",
        "from flask_ngrok import run_with_ngrok\n",
        "from flask import request, jsonify, Flask\n",
        "import random as rk"
      ],
      "metadata": {
        "id": "tznLqy4gzBfY"
      },
      "execution_count": 28,
      "outputs": []
    },
    {
      "cell_type": "code",
      "source": [
        "app = Flask(__name__) # O nome do pacote da aplicação\n",
        "\n",
        "# Para disponibilizar seu aplicativo Flask ao executar\n",
        "\n",
        "run_with_ngrok(app)"
      ],
      "metadata": {
        "id": "RkZS2iwJzIB7"
      },
      "execution_count": 29,
      "outputs": []
    },
    {
      "cell_type": "code",
      "source": [
        "# Criando um arquivo JSON\n",
        "dados = [{\n",
        "    \"ID\":1 ,\n",
        "    \"Name\":\"Mahesh\" ,\n",
        "    \"Age\":25 ,\n",
        "    \"City\":\"Bangalore\" ,\n",
        "    \"Country\":\"India\"\n",
        "},\n",
        "{\n",
        " \"ID\":1 ,\n",
        "    \"Name\":\"Alex\" ,\n",
        "    \"Age\":26 ,\n",
        "    \"City\":\"London\" ,\n",
        "    \"Country\":\"UK\"\n",
        "},\n",
        "{\n",
        "    \"ID\":2 ,\n",
        "    \"Name\":\"David\" ,\n",
        "    \"Age\":27 ,\n",
        "    \"City\":\"San Francisco\" ,\n",
        "    \"Country\":\"USA\"\n",
        "},\n",
        "{\n",
        "    \"ID\":4 ,\n",
        "    \"Name\":\"John\" ,\n",
        "    \"Age\":28 ,\n",
        "    \"City\":\"Toronto\" ,\n",
        "    \"Country\":\"Canada\"\n",
        "},\n",
        "{\n",
        "    \"ID\":5 ,\n",
        "    \"Name\":\"Chris\" ,\n",
        "    \"Age\":29 ,\n",
        "    \"City\":\"Paris\" ,\n",
        "    \"Country\":\"France\"\n",
        "}]\n"
      ],
      "metadata": {
        "id": "btHW0hs9sETG"
      },
      "execution_count": 30,
      "outputs": []
    },
    {
      "cell_type": "code",
      "source": [
        "@app.route(\"/\") #code to assign HomePage URL in our app to function home.\n",
        "\n",
        "def home():\n",
        "  '''\n",
        "  The entire line below must be written in a single line.\n",
        "  '''\n",
        "  return \"<marquee><h3> TO CHECK IN PUT ADD '/input' TO THE URL AND TO CHECK OUT PUT ADD '/output' TO THE URL.</h3></marquee>\""
      ],
      "metadata": {
        "id": "GAfyqEOHzYQZ"
      },
      "execution_count": 31,
      "outputs": []
    },
    {
      "cell_type": "code",
      "source": [
        "@app.route(\"/input\") #code to assign Input URL in our app to function input.\n",
        "\n",
        "def input():\n",
        "  return jsonify(dados) # \"d\" is the dictionary we defined"
      ],
      "metadata": {
        "id": "nuEaamygzbcf"
      },
      "execution_count": 32,
      "outputs": []
    },
    {
      "cell_type": "code",
      "source": [
        "@app.route('/output', methods=['GET','POST']) #output page\n",
        "\n",
        "def predJson():\n",
        " pred = rk.choice([\"positive\",\"negative\"])\n",
        " nd = dados # our input\n",
        " nd[\"prediction\"]=pred\n",
        " return jsonify(nd)\n",
        "\n",
        "app.run()"
      ],
      "metadata": {
        "id": "WE96AN2Dzdcw"
      },
      "execution_count": null,
      "outputs": []
    }
  ]
}