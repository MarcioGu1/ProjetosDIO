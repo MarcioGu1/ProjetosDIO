{
 "cells": [
  {
   "cell_type": "markdown",
   "metadata": {},
   "source": [
    "Sistema Bancario parte 3"
   ]
  },
  {
   "cell_type": "code",
   "execution_count": 3,
   "metadata": {},
   "outputs": [],
   "source": [
    "import textwrap"
   ]
  },
  {
   "cell_type": "code",
   "execution_count": 4,
   "metadata": {},
   "outputs": [],
   "source": [
    "def menu():\n",
    "    menu = \"\"\"\\n\n",
    "    ================ MENU ================\n",
    "    [ 1 ]  Depositar\n",
    "    [ 2 ]  Sacar\n",
    "    [ 3 ]  Extrato\n",
    "    [ 4 ]  Nova conta\n",
    "    [ 5 ]  Listar contas\n",
    "    [ 6 ]  Novo usuário\n",
    "    [ 7 ]  Sair\n",
    "       => \"\"\"\n",
    "    return input(textwrap.dedent(menu))"
   ]
  },
  {
   "cell_type": "code",
   "execution_count": 5,
   "metadata": {},
   "outputs": [],
   "source": [
    "def depositar(saldo, valor, extrato):\n",
    "    if valor > 0:\n",
    "        saldo += valor\n",
    "        extrato += f\"Depósito:\\tR$ {valor:.2f}\\n\".replace('.',',')\n",
    "        print(\"\\n=== Depósito realizado com sucesso! ===\")\n",
    "    else:\n",
    "        print(\"\\nOperação falhou! O valor informado é inválido.\")\n",
    "\n",
    "    return saldo, extrato"
   ]
  },
  {
   "cell_type": "code",
   "execution_count": 6,
   "metadata": {},
   "outputs": [],
   "source": [
    "def sacar(*, saldo, valor, extrato, limite, numero_saques, limite_saques):\n",
    "    excedeu_saldo = valor > saldo\n",
    "    excedeu_limite = valor > limite\n",
    "    excedeu_saques = numero_saques >= limite_saques\n",
    "\n",
    "    if excedeu_saldo:\n",
    "        print(\"\\n Operação falhou! Você não tem saldo suficiente.\")\n",
    "\n",
    "    elif excedeu_limite:\n",
    "        print(\"\\n Operação falhou! O valor do saque excede o limite.\")\n",
    "\n",
    "    elif excedeu_saques:\n",
    "        print(\"\\n Operação falhou! Número máximo de saques excedido.\")\n",
    "\n",
    "    elif valor > 0:\n",
    "        saldo -= valor\n",
    "        extrato += f\"Saque:\\t\\tR$ {valor:.2f}\\n\".replace('.',',')\n",
    "        numero_saques += 1\n",
    "        print(\"\\n Saque realizado com sucesso!\")\n",
    "\n",
    "    else:\n",
    "        print(\"\\n Operação falhou! O valor informado é inválido.\")\n",
    "    return saldo , extrato"
   ]
  },
  {
   "cell_type": "code",
   "execution_count": 8,
   "metadata": {},
   "outputs": [],
   "source": [
    "def exibir_extrato(saldo, /, *, extrato):\n",
    "    print(\"\\n================ EXTRATO ================\")\n",
    "    print(\"Não foram realizadas movimentações.\" if not extrato else extrato)\n",
    "    print(f\"\\nSaldo:\\t\\tR$ {saldo:.2f}\".replace('.',','))\n",
    "    print(\"==========================================\")"
   ]
  },
  {
   "cell_type": "code",
   "execution_count": 9,
   "metadata": {},
   "outputs": [],
   "source": [
    "def criar_usuario(usuarios):\n",
    "    cpf = input(\"Informe o CPF (somente número): \")\n",
    "    usuario = filtrar_usuario(cpf, usuarios)\n",
    "\n",
    "    if usuario:\n",
    "        print(\"\\n Já existe usuário com esse CPF!\")\n",
    "        return\n",
    "\n",
    "    nome = input(\"Informe o nome completo: \")\n",
    "    data_nascimento = input(\"Informe a data de nascimento (dd-mm-aaaa): \")\n",
    "    endereco = input(\"Informe o endereço (logradouro, nro - bairro - cidade/sigla estado): \")\n",
    "\n",
    "    usuarios.append({\"nome\": nome, \"data_nascimento\": data_nascimento, \"cpf\": cpf, \"endereco\": endereco})\n",
    "\n",
    "    print(\"=== Usuário criado com sucesso! ===\")"
   ]
  },
  {
   "cell_type": "code",
   "execution_count": 10,
   "metadata": {},
   "outputs": [],
   "source": [
    "def filtrar_usuario(cpf, usuarios):\n",
    "    usuarios_filtrados = [usuario for usuario in usuarios if usuario[\"cpf\"] == cpf]\n",
    "    return usuarios_filtrados[0] if usuarios_filtrados else None\n"
   ]
  },
  {
   "cell_type": "code",
   "execution_count": 11,
   "metadata": {},
   "outputs": [],
   "source": [
    "def criar_conta(agencia, numero_conta, usuarios):\n",
    "    cpf = input(\"Informe o CPF do usuário: \")\n",
    "    usuario = filtrar_usuario(cpf, usuarios)\n",
    "\n",
    "    if usuario:\n",
    "        print(\"\\n=== Conta criada com sucesso! ===\")\n",
    "        return {\"agencia\": agencia, \"numero_conta\": numero_conta, \"usuario\": usuario}\n",
    "\n",
    "    print(\"\\n Usuário não encontrado, fluxo de criação de conta encerrado!\")"
   ]
  },
  {
   "cell_type": "code",
   "execution_count": 12,
   "metadata": {},
   "outputs": [],
   "source": [
    "def listar_contas(contas):\n",
    "    for conta in contas:\n",
    "        linha = f\"\"\"\\\n",
    "            Agência:\\t{conta['agencia']}\n",
    "            C/C:\\t\\t{conta['numero_conta']}\n",
    "            Titular:\\t{conta['usuario']['nome']}\n",
    "        \"\"\"\n",
    "        print(\"=\" * 100)\n",
    "        print(textwrap.dedent(linha))"
   ]
  },
  {
   "cell_type": "code",
   "execution_count": 13,
   "metadata": {},
   "outputs": [],
   "source": [
    "def main():\n",
    "    LIMITE_SAQUES = 3\n",
    "    AGENCIA = \"0001\"\n",
    "\n",
    "    saldo = 0\n",
    "    limite = 500\n",
    "    extrato = \"\"\n",
    "    numero_saques = 0\n",
    "    usuarios = []\n",
    "    contas = []\n",
    "\n",
    "    while True:\n",
    "        opcao = menu()\n",
    "\n",
    "        if opcao == \"1\":\n",
    "            valor = float(input(\"Informe o valor do depósito: \"))\n",
    "\n",
    "            saldo, extrato = depositar(saldo, valor, extrato)\n",
    "\n",
    "        elif opcao == \"2\":\n",
    "            valor = float(input(\"Informe o valor do saque: \"))\n",
    "\n",
    "            saldo, extrato = sacar(\n",
    "                saldo=saldo,\n",
    "                valor=valor,\n",
    "                extrato=extrato,\n",
    "                limite=limite,\n",
    "                numero_saques=numero_saques,\n",
    "                limite_saques=LIMITE_SAQUES,\n",
    "            )\n",
    "\n",
    "        elif opcao == \"3\":\n",
    "            exibir_extrato(saldo, extrato=extrato)\n",
    "\n",
    "        elif opcao == \"4\":\n",
    "            criar_usuario(usuarios)\n",
    "\n",
    "        elif opcao == \"5\":\n",
    "            numero_conta = len(contas) + 1\n",
    "            conta = criar_conta(AGENCIA, numero_conta, usuarios)\n",
    "\n",
    "            if conta:\n",
    "                contas.append(conta)\n",
    "\n",
    "        elif opcao == \"6\":\n",
    "            listar_contas(contas)\n",
    "\n",
    "        elif opcao == \"7\":\n",
    "            break\n",
    "\n",
    "        else:\n",
    "            print(\"Operação inválida, por favor selecione novamente a operação desejada.\")"
   ]
  },
  {
   "cell_type": "code",
   "execution_count": 14,
   "metadata": {},
   "outputs": [],
   "source": [
    "main()"
   ]
  }
 ],
 "metadata": {
  "kernelspec": {
   "display_name": "Python 3",
   "language": "python",
   "name": "python3"
  },
  "language_info": {
   "codemirror_mode": {
    "name": "ipython",
    "version": 3
   },
   "file_extension": ".py",
   "mimetype": "text/x-python",
   "name": "python",
   "nbconvert_exporter": "python",
   "pygments_lexer": "ipython3",
   "version": "3.11.5"
  }
 },
 "nbformat": 4,
 "nbformat_minor": 2
}
